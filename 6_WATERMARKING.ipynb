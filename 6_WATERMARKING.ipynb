{
 "cells": [
  {
   "cell_type": "markdown",
   "metadata": {
    "application/vnd.databricks.v1+cell": {
     "cellMetadata": {},
     "inputWidgets": {},
     "nuid": "be13106b-443f-42a8-863b-dd7f8fec7edb",
     "showTitle": false,
     "tableResultSettingsMap": {},
     "title": ""
    }
   },
   "source": [
    "LIVE IOT DATA TO DELTA LOCATION"
   ]
  },
  {
   "cell_type": "code",
   "execution_count": 0,
   "metadata": {
    "application/vnd.databricks.v1+cell": {
     "cellMetadata": {
      "byteLimit": 2048000,
      "rowLimit": 10000
     },
     "inputWidgets": {},
     "nuid": "06b22995-31fe-4153-a293-9821c794ac56",
     "showTitle": false,
     "tableResultSettingsMap": {},
     "title": ""
    }
   },
   "outputs": [],
   "source": [
    "from pyspark.sql import SparkSession\n",
    "from datetime import datetime, timezone\n",
    "import time\n",
    "import random\n",
    "\n",
    "# Start Spark session\n",
    "spark = SparkSession.builder.appName(\"IoT_Data_Generator\").getOrCreate()\n",
    "\n",
    "# Delta path (adjust to your mount path)\n",
    "delta_path = \"dbfs:/user/hive/warehouse/iot_events\"\n",
    "\n",
    "# Loop to generate data every 2 seconds\n",
    "for i in range(50):  # Generates 50 batches (~100 seconds)\n",
    "    # Generate Python timestamp\n",
    "\n",
    "    # event_time = datetime.now()\n",
    "    \n",
    "    # Create a Python list of data\n",
    "    data = [\n",
    "        (\n",
    "            i,  # event ID\n",
    "            f\"device_{random.randint(1, 5)}\",  # device_id\n",
    "            round(random.uniform(20.0, 35.0), 2),  # temperature\n",
    "            round(random.uniform(30.0, 70.0), 2)  # humidity\n",
    "            # event_time  # event_time as Python datetime\n",
    "        )\n",
    "    ]\n",
    "    \n",
    "    # Create DataFrame with explicit schema\n",
    "    df = spark.createDataFrame(\n",
    "        data,\n",
    "        [\"event_id\", \"device_id\", \"temperature\", \"humidity\"]\n",
    "        # [\"event_id\", \"device_id\", \"temperature\", \"humidity\", \"event_time\"]\n",
    "    )\n",
    "    \n",
    "    # Append to Delta table\n",
    "    df.write.format(\"delta\").mode(\"append\").save(delta_path)\n",
    "    \n",
    "    print(f\"Inserted batch {i+1} at {datetime.now().strftime('%H:%M:%S')}\")\n",
    "    time.sleep(20)\n",
    "\n",
    "spark.stop()\n"
   ]
  },
  {
   "cell_type": "code",
   "execution_count": 0,
   "metadata": {
    "application/vnd.databricks.v1+cell": {
     "cellMetadata": {
      "byteLimit": 2048000,
      "implicitDf": true,
      "rowLimit": 10000
     },
     "inputWidgets": {},
     "nuid": "a28b1724-0fed-465a-a9f0-0822466b4928",
     "showTitle": false,
     "tableResultSettingsMap": {},
     "title": ""
    }
   },
   "outputs": [],
   "source": [
    "%sql\n",
    "SELECT * FROM delta.`dbfs:/user/hive/warehouse/iot_events`"
   ]
  },
  {
   "cell_type": "markdown",
   "metadata": {
    "application/vnd.databricks.v1+cell": {
     "cellMetadata": {},
     "inputWidgets": {},
     "nuid": "a21acbba-a00b-4580-84c0-56280a25c6ba",
     "showTitle": false,
     "tableResultSettingsMap": {},
     "title": ""
    }
   },
   "source": [
    "## APPLY WATER MARKING TO AGG COUNT WITH LIVE TRANSFORMATION "
   ]
  },
  {
   "cell_type": "code",
   "execution_count": 0,
   "metadata": {
    "application/vnd.databricks.v1+cell": {
     "cellMetadata": {
      "byteLimit": 2048000,
      "rowLimit": 10000
     },
     "inputWidgets": {},
     "nuid": "3cab8384-75a1-4869-a463-22298212893e",
     "showTitle": false,
     "tableResultSettingsMap": {},
     "title": ""
    }
   },
   "outputs": [],
   "source": [
    "from pyspark.sql.functions import window, col\n",
    "\n",
    "# Read streaming data from Delta table\n",
    "df = spark.readStream.format(\"delta\").load(\"dbfs:/user/hive/warehouse/iot_events\")\n",
    "\n",
    "# Add processing time as a columnfor water marking\n",
    "df = df.withColumn(\"proc_time\", current_timestamp())\n",
    "\n",
    "# Apply watermark and aggregate by device in 1-min windows\n",
    "agg_df = (\n",
    "    df\n",
    "    .withWatermark(\"proc_time\", \"2 minutes\")  # Max lateness allowed\n",
    "    .groupBy(\n",
    "        window(col(\"proc_time\"), \"1 minute\"),  # Tumbling window\n",
    "        col(\"device_id\")\n",
    "    )\n",
    "    .count()\n",
    ")\n",
    "\n"
   ]
  },
  {
   "cell_type": "code",
   "execution_count": 0,
   "metadata": {
    "application/vnd.databricks.v1+cell": {
     "cellMetadata": {
      "byteLimit": 2048000,
      "rowLimit": 10000
     },
     "inputWidgets": {},
     "nuid": "11cfa380-41b8-4e61-ab62-84a05ebe4749",
     "showTitle": false,
     "tableResultSettingsMap": {},
     "title": ""
    }
   },
   "outputs": [],
   "source": [
    "agg_df.display()"
   ]
  },
  {
   "cell_type": "markdown",
   "metadata": {
    "application/vnd.databricks.v1+cell": {
     "cellMetadata": {},
     "inputWidgets": {},
     "nuid": "fc0fb313-d767-49ab-804e-9e7ebde4756b",
     "showTitle": false,
     "tableResultSettingsMap": {},
     "title": ""
    }
   },
   "source": [
    "###  Output results to console for testing"
   ]
  },
  {
   "cell_type": "code",
   "execution_count": 0,
   "metadata": {
    "application/vnd.databricks.v1+cell": {
     "cellMetadata": {
      "byteLimit": 2048000,
      "rowLimit": 10000
     },
     "inputWidgets": {},
     "nuid": "420f7281-af6f-46f9-92f5-671e3a1d6fe3",
     "showTitle": false,
     "tableResultSettingsMap": {},
     "title": ""
    }
   },
   "outputs": [],
   "source": [
    "# data save on delta with proc_time \n",
    "df.writeStream \\\n",
    "    .format(\"delta\") \\\n",
    "    .outputMode(\"append\") \\\n",
    "    .option(\"checkpointLocation\",\"dbfs:/user/hive/warehouse/iot_event_data/checkpoints/data_checkpoint\")\\\n",
    "    .start(\"dbfs:/user/hive/warehouse/iot_event_data/\")\n",
    "    # .table(\"dbfs:/user/hive/warehouse/iot_event_data/\")\n",
    "\n",
    "    "
   ]
  },
  {
   "cell_type": "code",
   "execution_count": 0,
   "metadata": {
    "application/vnd.databricks.v1+cell": {
     "cellMetadata": {
      "byteLimit": 2048000,
      "implicitDf": true,
      "rowLimit": 10000
     },
     "inputWidgets": {},
     "nuid": "50efaca6-0bea-409c-9c54-fcb5863314f6",
     "showTitle": false,
     "tableResultSettingsMap": {},
     "title": ""
    }
   },
   "outputs": [],
   "source": [
    "%sql\n",
    "SELECT * FROM delta.`dbfs:/user/hive/warehouse/iot_event_data/` ORDER BY proc_time DESC\n",
    "\n"
   ]
  },
  {
   "cell_type": "code",
   "execution_count": 0,
   "metadata": {
    "application/vnd.databricks.v1+cell": {
     "cellMetadata": {
      "byteLimit": 2048000,
      "rowLimit": 10000
     },
     "inputWidgets": {},
     "nuid": "b183fe4c-5a18-431b-8161-1b6683c73250",
     "showTitle": false,
     "tableResultSettingsMap": {},
     "title": ""
    }
   },
   "outputs": [],
   "source": [
    "\n",
    "#agg data save in delta    \n",
    "agg_df \\\n",
    "    .coalesce(5) \\\n",
    "    .writeStream \\\n",
    "    .format(\"delta\") \\\n",
    "    .outputMode(\"append\") \\\n",
    "    .option(\"checkpointLocation\", \"dbfs:/user/hive/warehouse/iot_event_WM_agg/checkpoints/iot_agg\") \\\n",
    "    .start(\"dbfs:/user/hive/warehouse/iot_event_WM_agg/\")\n",
    "    # .table(\"dbfs:/user/hive/warehouse/iot_event_delta\")"
   ]
  },
  {
   "cell_type": "code",
   "execution_count": 0,
   "metadata": {
    "application/vnd.databricks.v1+cell": {
     "cellMetadata": {
      "byteLimit": 2048000,
      "rowLimit": 10000
     },
     "inputWidgets": {},
     "nuid": "155deded-edc2-41e0-833c-56e353309d65",
     "showTitle": false,
     "tableResultSettingsMap": {},
     "title": ""
    }
   },
   "outputs": [],
   "source": [
    "%fs ls dbfs:/user/hive/warehouse/iot_event_WM_agg/"
   ]
  }
 ],
 "metadata": {
  "application/vnd.databricks.v1+notebook": {
   "computePreferences": null,
   "dashboards": [],
   "environmentMetadata": {
    "base_environment": "",
    "environment_version": "1"
   },
   "inputWidgetPreferences": null,
   "language": "python",
   "notebookMetadata": {
    "mostRecentlyExecutedCommandWithImplicitDF": {
     "commandId": 983989658420920,
     "dataframes": [
      "_sqldf"
     ]
    },
    "pythonIndentUnit": 4
   },
   "notebookName": "6_WATERMARKING",
   "widgets": {}
  },
  "language_info": {
   "name": "python"
  }
 },
 "nbformat": 4,
 "nbformat_minor": 0
}
